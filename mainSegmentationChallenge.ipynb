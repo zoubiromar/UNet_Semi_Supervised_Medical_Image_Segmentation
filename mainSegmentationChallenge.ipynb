{
 "cells": [
  {
   "cell_type": "code",
   "execution_count": 5,
   "id": "6b07cf2f-b81d-43ef-907a-c49fed2d95ac",
   "metadata": {
    "tags": []
   },
   "outputs": [],
   "source": [
    "from torch.utils.data import DataLoader\n",
    "from torchvision import transforms\n",
    "import medicalDataLoader\n",
    "from utils import *\n",
    "from multi_UNet_complex import *"
   ]
  },
  {
   "cell_type": "code",
   "execution_count": 6,
   "metadata": {},
   "outputs": [
    {
     "name": "stdout",
     "output_type": "stream",
     "text": [
      "cpu\n"
     ]
    }
   ],
   "source": [
    "import torch\n",
    "\n",
    "# Select GPU if available, else CPU\n",
    "device = torch.device('cpu')\n",
    "print(device)"
   ]
  },
  {
   "cell_type": "code",
   "execution_count": 7,
   "id": "8e976350-3fd5-4406-8511-86a06a9b4494",
   "metadata": {
    "tags": []
   },
   "outputs": [],
   "source": [
    "import warnings\n",
    "warnings.filterwarnings(\"ignore\")"
   ]
  },
  {
   "cell_type": "code",
   "execution_count": 20,
   "metadata": {},
   "outputs": [],
   "source": [
    "def lossFunction(loss1,loss2,alpha:float,predictions, y_hat_1, y_hat_2):\n",
    "    if(alpha>1 or alpha<0):\n",
    "        Exception(\"alpha is outside [0;1]\")\n",
    "    _loss1 = loss1(predictions, y_hat_1)\n",
    "    _loss2 = loss2(predictions, y_hat_2)\n",
    "    return alpha * _loss1 + (1-alpha) * _loss2"
   ]
  },
  {
   "cell_type": "markdown",
   "metadata": {},
   "source": [
    "## Supervised\n",
    "\n",
    "\n",
    "Learning rate using 5 epochs, a batch size of 32 and UNet Complexe\n",
    "\n",
    "Schedulers :\n",
    "- `CosineAnnealingLR` ![learning_CosineAnnealingLR.png](./img/learning_CosineAnnealingLR.png)\n",
    "    - Adoucit progressivement le taux d'apprentissage, aidant potentiellement le modèle à converger plus rapidement.\n",
    "    - Peut être utile pour les modèles avec des espaces de paramètres étendus.\n",
    "- `LambdaLR` ![learning_LambdaLR.png](./img/learning_LambdaLR.png)"
   ]
  },
  {
   "cell_type": "code",
   "execution_count": 46,
   "id": "220c7dcc-8438-454d-97b1-8e989a7b8f06",
   "metadata": {
    "tags": []
   },
   "outputs": [],
   "source": [
    "def runTraining(epoch_num, weights_path='', augm = False):\n",
    "    print('-' * 40)\n",
    "    print('~~~~~~~~  Starting the training... ~~~~~~')\n",
    "    print('-' * 40)\n",
    "\n",
    "    ## DEFINE HYPERPARAMETERS (batch_size > 1)\n",
    "    batch_size = 16\n",
    "    batch_size_val = 16\n",
    "    lr = 0.001   # Learning Rate\n",
    "    epoch = epoch_num # Number of epochs\n",
    "\n",
    "    root_dir = './Data/'\n",
    "\n",
    "    print(' Dataset: {} '.format(root_dir))\n",
    "\n",
    "    ## DEFINE THE TRANSFORMATIONS TO DO AND THE VARIABLES FOR TRAINING AND VALIDATION\n",
    "\n",
    "    transform = transforms.Compose([\n",
    "        transforms.ToTensor()\n",
    "    ])\n",
    "\n",
    "    mask_transform = transforms.Compose([\n",
    "        transforms.ToTensor()\n",
    "    ])\n",
    "\n",
    "    train_set_full = medicalDataLoader.MedicalImageDataset('train',\n",
    "                                                      root_dir,\n",
    "                                                      transform=transform,\n",
    "                                                      mask_transform=mask_transform,\n",
    "                                                      augment=augm,  # Set to True to enable data augmentation\n",
    "                                                      equalize=False)\n",
    "\n",
    "    train_loader_full = DataLoader(train_set_full,\n",
    "                              batch_size=batch_size,\n",
    "                              worker_init_fn=np.random.seed(0),\n",
    "                              num_workers=0,\n",
    "                              shuffle=True)\n",
    "\n",
    "\n",
    "    val_set = medicalDataLoader.MedicalImageDataset('val',\n",
    "                                                    root_dir,\n",
    "                                                    transform=transform,\n",
    "                                                    mask_transform=mask_transform,\n",
    "                                                    equalize=False)\n",
    "\n",
    "    val_loader = DataLoader(val_set,\n",
    "                            batch_size=batch_size_val,\n",
    "                            worker_init_fn=np.random.seed(0),\n",
    "                            num_workers=0,\n",
    "                            shuffle=False)\n",
    "\n",
    "\n",
    "    ## INITIALIZE YOUR MODEL\n",
    "    num_classes = 4 # NUMBER OF CLASSES\n",
    "\n",
    "    print(\"~~~~~~~~~~~ Creating the UNet model ~~~~~~~~~~\")\n",
    "    modelName = 'Test_Model'\n",
    "    print(\" Model Name: {}\".format(modelName))\n",
    "\n",
    "    ## CREATION OF YOUR MODEL\n",
    "    net = ComplexUNet(num_classes)\n",
    "\n",
    "    #net = UNet(num_classes)\n",
    "    net = net.to(device)  # Move the model to the device\n",
    "\n",
    "    ## Load the weights from the previously trained model\n",
    "    if weights_path != '':\n",
    "        # previous_model_dir = './models/' + 'Test_Model' + '/' + str(epoch_num) +'_Epoch'\n",
    "        net.load_state_dict(torch.load(weights_path))\n",
    "        print(\" Model loaded: {}\".format(weights_path))\n",
    "\n",
    "    print(\"Total params: {0:,}\".format(sum(p.numel() for p in net.parameters() if p.requires_grad)))\n",
    "\n",
    "    # DEFINE YOUR OUTPUT COMPONENTS (e.g., SOFTMAX, LOSS FUNCTION, ETC)\n",
    "    softMax = torch.nn.Softmax(dim=1)\n",
    "    CE_loss = torch.nn.CrossEntropyLoss()\n",
    "    DiceLossV2Train = DiceLossV2(n_classes=4)\n",
    "\n",
    "    ## PUT EVERYTHING IN GPU RESOURCES\n",
    "    if torch.cuda.is_available():\n",
    "        net.cuda()\n",
    "        softMax.cuda()\n",
    "        CE_loss.cuda()\n",
    "\n",
    "    ## DEFINE YOUR OPTIMIZER\n",
    "    optimizer = torch.optim.Adam(net.parameters(), lr=lr)\n",
    "    lambda1 = lambda epoch: 0.95 ** epoch\n",
    "    scheduler = torch.optim.lr_scheduler.LambdaLR(optimizer, lr_lambda=lambda1)\n",
    "\n",
    "\n",
    "    ### To save statistics ####\n",
    "    lossTotalTraining = []\n",
    "    lossTotalVal = []\n",
    "    Best_loss_val = 1000\n",
    "    BestEpoch = 0\n",
    "    lrs = []\n",
    "    patience = 3\n",
    "\n",
    "    directory = 'Results/Statistics/' + modelName\n",
    "\n",
    "    print(\"~~~~~~~~~~~ Starting the training ~~~~~~~~~~\")\n",
    "    if os.path.exists(directory)==False:\n",
    "        os.makedirs(directory)\n",
    "\n",
    "    ## START THE TRAINING\n",
    "\n",
    "    ## FOR EACH EPOCH\n",
    "    for i in range(epoch):\n",
    "        net.train()\n",
    "        lossEpoch = []\n",
    "        lrEpoch = []\n",
    "        num_batches = len(train_loader_full)\n",
    "\n",
    "        ## FOR EACH BATCH\n",
    "        for j, data in enumerate(train_loader_full):\n",
    "            ### Set to zero all the gradients\n",
    "            net.zero_grad()\n",
    "            optimizer.zero_grad()\n",
    "\n",
    "            ## GET IMAGES, LABELS and IMG NAMES\n",
    "            images = data[0]\n",
    "            labels = data[1]\n",
    "            # img_names = data[2]\n",
    "\n",
    "            ### From numpy to torch variables\n",
    "            labels = to_var(labels)\n",
    "            images = to_var(images)\n",
    "\n",
    "            ################### Train ###################\n",
    "            #-- The CNN makes its predictions (forward pass)\n",
    "            net_predictions = net.forward(images)\n",
    "            s_pred = softMax(net_predictions)\n",
    "            #-- Compute the losses --#\n",
    "            # THIS FUNCTION IS TO CONVERT LABELS TO A FORMAT TO BE USED IN THIS CODE\n",
    "\n",
    "            segmentation_classes = getTargetSegmentation(labels)\n",
    "            seg_one_hot = F.one_hot(segmentation_classes ,num_classes=4).permute(0, 3, 1, 2).float()\n",
    "\n",
    "            # COMPUTE THE LOSS\n",
    "            #pred_one = predToSegmentation(s_pred)\n",
    "            #CE_loss_value = 0.4 * CE_loss(net_predictions, seg_one_hot) + 0.6 * DiceLossV2Train(net_predictions ,segmentation_classes, softmax=True)# XXXXXX and YYYYYYY are your inputs for the CE\n",
    "            loss = lossFunction(CE_loss,DiceLossV2Train,0.4,s_pred,seg_one_hot,segmentation_classes)\n",
    "\n",
    "            lossTotal = loss\n",
    "            # DO THE STEPS FOR BACKPROP (two things to be done in pytorch)\n",
    "            loss.backward()\n",
    "            optimizer.step()\n",
    "\n",
    "\n",
    "            # Update LR\n",
    "            #scheduler.step()\n",
    "            lr_step = optimizer.state_dict()[\"param_groups\"][0][\"lr\"]\n",
    "            lrEpoch.append(lr_step)\n",
    "\n",
    "            # THIS IS JUST TO VISUALIZE THE TRAINING\n",
    "            lossEpoch.append(lossTotal.cpu().data.numpy())\n",
    "\n",
    "            #scheduler.step()\n",
    "            printProgressBar(j + 1, num_batches,\n",
    "                             prefix=\"[Training] Epoch: {} \".format(i),\n",
    "                             length=15,\n",
    "                             suffix=\" Loss: {:.4f}, lr: {} \".format(lossTotal,lr_step))\n",
    "\n",
    "        lossEpoch = np.asarray(lossEpoch)\n",
    "        lossEpoch = lossEpoch.mean()\n",
    "\n",
    "        lossVal = inference(net, val_loader, \"modele\", i)\n",
    "        scheduler.step()\n",
    "        lossTotalVal.append(lossVal)\n",
    "        lossTotalTraining.append(lossEpoch)\n",
    "\n",
    "        lrEpoch = np.asarray(lrEpoch)\n",
    "        lrEpoch = lrEpoch.mean()\n",
    "        lrs.append(lrEpoch)\n",
    "\n",
    "        printProgressBar(num_batches, num_batches,\n",
    "                             done=\"[Training] Epoch: {}, LossT: {:.4f}, LossV: {:.4f}\".format(i, lossEpoch, lossVal))\n",
    "\n",
    "        if not os.path.exists('./models/' + modelName):\n",
    "                os.makedirs('./models/' + modelName)\n",
    "\n",
    "        if lossVal > Best_loss_val:\n",
    "                trigger_times += 1\n",
    "                print('trigger times:', trigger_times)\n",
    "\n",
    "\n",
    "                if trigger_times >= patience:\n",
    "                    print('Early stopping!\\nStart to test process.')\n",
    "                    torch.save(net.state_dict(), './models/' + modelName + '/' + str(i) + '_Epoch')\n",
    "                    break\n",
    "        else:\n",
    "            print('trigger times: 0')\n",
    "            trigger_times = 0\n",
    "        torch.save(net.state_dict(), './models/' + modelName + '/' + str(i) + '_Epoch')\n",
    "        Best_loss_val = lossVal\n",
    "    return lossTotalTraining, lossTotalVal, batch_size, batch_size_val, lrs, lr\n"
   ]
  },
  {
   "cell_type": "code",
   "execution_count": 47,
   "metadata": {
    "collapsed": false
   },
   "outputs": [
    {
     "name": "stdout",
     "output_type": "stream",
     "text": [
      "----------------------------------------\n",
      "~~~~~~~~  Starting the training... ~~~~~~\n",
      "----------------------------------------\n",
      " Dataset: ./Data/ \n",
      "~~~~~~~~~~~ Creating the UNet model ~~~~~~~~~~\n",
      " Model Name: Test_Model\n",
      "Total params: 7,068,708\n",
      "~~~~~~~~~~~ Starting the training ~~~~~~~~~~\n",
      "[Training] Epoch: 0 [DONE]                                           \n",
      "[Inference] Segmentation Done !                                                                              \n",
      "[Training] Epoch: 0, LossT: 1.0452, LossV: 18.5068                                                           \n",
      "trigger times: 0\n",
      "[Training] Epoch: 1 [DONE]                                             \n",
      "[Inference] Segmentation Done !                                                                              \n",
      "[Training] Epoch: 1, LossT: 0.9643, LossV: 6.3029                                                            \n",
      "trigger times: 0\n",
      "[Training] Epoch: 2 [DONE]                                               \n",
      "[Inference] Segmentation Done !                                                                              \n",
      "[Training] Epoch: 2, LossT: 0.9286, LossV: 1.2381                                                            \n",
      "trigger times: 0\n",
      "[Training] Epoch: 3 [DONE]                                                 \n",
      "[Inference] Segmentation Done !                                                                              \n",
      "[Training] Epoch: 3, LossT: 0.8929, LossV: 3.7665                                                            \n",
      "trigger times: 1\n",
      "[Training] Epoch: 4 [DONE]                                                           \n",
      "[Inference] Segmentation Done !                                                                              \n",
      "[Training] Epoch: 4, LossT: 0.8553, LossV: 5.0485                                                            \n",
      "trigger times: 2\n"
     ]
    }
   ],
   "source": [
    "lossTotalTraining, lossTotalVal, batch_size, batch_size_val, lrs, lr = runTraining(5)"
   ]
  },
  {
   "cell_type": "code",
   "execution_count": 29,
   "metadata": {},
   "outputs": [
    {
     "name": "stdout",
     "output_type": "stream",
     "text": [
      "Losses Training : [1.0206486, 0.9350837, 0.85337555, 0.7754875, 0.6955475]\n",
      "Losses Validation : [11.214131, 2.284823, 0.9428118, 0.64575756, 0.46052247]\n"
     ]
    }
   ],
   "source": [
    "print(f\"Losses Training : {lossTotalTraining}\")\n",
    "print(f\"Losses Validation : {lossTotalVal}\")"
   ]
  },
  {
   "cell_type": "code",
   "execution_count": 48,
   "metadata": {
    "collapsed": false
   },
   "outputs": [],
   "source": [
    "import matplotlib.pyplot as plt\n",
    "\n",
    "def get_Training_learning(training_loss,validation_loss, learning_rate, all_learning_rate,\n",
    "                          training_batch_size,validation_batch_size,opt_name = \"Adam\"):\n",
    "\n",
    "    # validation_loss.pop(0)\n",
    "    # training_loss.pop(0)\n",
    "    files = os.listdir('./models/Test_Model')\n",
    "\n",
    "    epochs = range(len(files))\n",
    "\n",
    "    plt.figure(figsize=(12, 6))\n",
    "    plt.plot(epochs, training_loss, 'r', label='Training loss')\n",
    "    plt.plot(epochs, validation_loss, 'b', label='Validation loss')\n",
    "\n",
    "    plt.xlabel('Epochs')\n",
    "    plt.ylabel('Loss')\n",
    "    plt.legend()\n",
    "\n",
    "    info_text = (\n",
    "        f\"Learning Rate: {learning_rate:.5f}\\n\"\n",
    "        f\"All Learning Rates: {', '.join(map(str, all_learning_rate))}\\n\"\n",
    "        f\"Training Batch Size: {training_batch_size}\\n\"\n",
    "        f\"Validation Batch Size: {validation_batch_size}\\n\"\n",
    "        f\"Optimizer: {opt_name}\"\n",
    "    )\n",
    "\n",
    "    plt.annotate(info_text, xy=(0.02, 0.92), xycoords='axes fraction', fontsize=10, bbox=dict(boxstyle=\"round,pad=0.3\", edgecolor=\"white\", facecolor=\"white\"))\n",
    "\n",
    "    plt.savefig(\"./Results/learning.png\")\n",
    "    plt.show()"
   ]
  },
  {
   "cell_type": "code",
   "execution_count": 49,
   "metadata": {},
   "outputs": [
    {
     "data": {
      "text/plain": [
       "list"
      ]
     },
     "execution_count": 49,
     "metadata": {},
     "output_type": "execute_result"
    }
   ],
   "source": [
    "type(lossTotalVal)"
   ]
  },
  {
   "cell_type": "code",
   "execution_count": 50,
   "metadata": {
    "collapsed": false
   },
   "outputs": [
    {
     "data": {
      "image/png": "[encoded data removed]",
      "text/plain": [
       "<Figure size 1200x600 with 1 Axes>"
      ]
     },
     "metadata": {},
     "output_type": "display_data"
    }
   ],
   "source": [
    "get_Training_learning(lossTotalTraining,lossTotalVal, lr, lrs, batch_size,batch_size_val,opt_name = \"Adam\")"
   ]
  },
  {
   "cell_type": "code",
   "execution_count": 12,
   "metadata": {
    "collapsed": false
   },
   "outputs": [],
   "source": [
    "# Testing the model on an Image\n",
    "\n",
    "from PIL import Image\n",
    "import torchvision.transforms.functional as TF\n",
    "import matplotlib.pyplot as plt\n",
    "\n",
    "\n",
    "def plotOutput(model_path, image_path):\n",
    "\n",
    "    ## CREATION OF YOUR MODEL\n",
    "    net_test = ComplexUNet(4)\n",
    "    net_test = net_test.to(device)\n",
    "    net_test.load_state_dict(torch.load(model_path, map_location=torch.device('cpu')))\n",
    "    # Load the image\n",
    "    image = Image.open(image_path)\n",
    "\n",
    "    # Convert the image to grayscale\n",
    "    if image.mode != 'L':\n",
    "        image = image.convert('L')\n",
    "\n",
    "    # Preprocess the image\n",
    "    x = TF.to_tensor(image)\n",
    "    x = TF.normalize(x, [0.5], [0.5])\n",
    "    x = x.unsqueeze(0)  # Add batch dimension\n",
    "\n",
    "    # Move the tensor to the same device as the model\n",
    "    x = x.to(device)\n",
    "\n",
    "    output = net_test(x)\n",
    "\n",
    "    # The output is the predicted segmentation\n",
    "    predicted_segmentation = torch.argmax(output.squeeze(), dim=0)\n",
    "\n",
    "    # Convert the tensor to a numpy array\n",
    "    predicted_segmentation = predicted_segmentation.detach().cpu().numpy()\n",
    "\n",
    "    # Display the predicted segmentation\n",
    "    plt.imshow(predicted_segmentation, cmap='gray')\n",
    "    plt.show()"
   ]
  },
  {
   "cell_type": "code",
   "execution_count": 14,
   "metadata": {},
   "outputs": [
    {
     "ename": "FileNotFoundError",
     "evalue": "[Errno 2] No such file or directory: './models/Test_Model/9evalStagne_Epoch'",
     "output_type": "error",
     "traceback": [
      "\u001b[0;31m---------------------------------------------------------------------------\u001b[0m",
      "\u001b[0;31mFileNotFoundError\u001b[0m                         Traceback (most recent call last)",
      "\u001b[1;32m/Users/paulsade/Development/UNet_Semi_Supervised_Medical_Image_Segmentation/mainSegmentationChallenge.ipynb Cellule 9\u001b[0m line \u001b[0;36m8\n\u001b[1;32m      <a href='vscode-notebook-cell:/Users/paulsade/Development/UNet_Semi_Supervised_Medical_Image_Segmentation/mainSegmentationChallenge.ipynb#X16sZmlsZQ%3D%3D?line=5'>6</a>\u001b[0m image_path \u001b[39m=\u001b[39m \u001b[39m\"\u001b[39m\u001b[39m./Data/val/Img/patient001_12_2.png\u001b[39m\u001b[39m\"\u001b[39m\n\u001b[1;32m      <a href='vscode-notebook-cell:/Users/paulsade/Development/UNet_Semi_Supervised_Medical_Image_Segmentation/mainSegmentationChallenge.ipynb#X16sZmlsZQ%3D%3D?line=6'>7</a>\u001b[0m \u001b[39m#plotOutput('./models/' + 'Test_Model1/19_Epoch', image_path)\u001b[39;00m\n\u001b[0;32m----> <a href='vscode-notebook-cell:/Users/paulsade/Development/UNet_Semi_Supervised_Medical_Image_Segmentation/mainSegmentationChallenge.ipynb#X16sZmlsZQ%3D%3D?line=7'>8</a>\u001b[0m plotOutput(\u001b[39m'\u001b[39;49m\u001b[39m./models/\u001b[39;49m\u001b[39m'\u001b[39;49m \u001b[39m+\u001b[39;49m \u001b[39m'\u001b[39;49m\u001b[39mTest_Model/9evalStagne_Epoch\u001b[39;49m\u001b[39m'\u001b[39;49m, image_path)\n\u001b[1;32m      <a href='vscode-notebook-cell:/Users/paulsade/Development/UNet_Semi_Supervised_Medical_Image_Segmentation/mainSegmentationChallenge.ipynb#X16sZmlsZQ%3D%3D?line=8'>9</a>\u001b[0m \u001b[39m#plotOutput('./models/' + 'Trained/2nd_model_simple_multi_unet_model/Data_Augmented/Augmented_5x', image_path)\u001b[39;00m\n",
      "\u001b[1;32m/Users/paulsade/Development/UNet_Semi_Supervised_Medical_Image_Segmentation/mainSegmentationChallenge.ipynb Cellule 9\u001b[0m line \u001b[0;36m1\n\u001b[1;32m     <a href='vscode-notebook-cell:/Users/paulsade/Development/UNet_Semi_Supervised_Medical_Image_Segmentation/mainSegmentationChallenge.ipynb#X16sZmlsZQ%3D%3D?line=10'>11</a>\u001b[0m net_test \u001b[39m=\u001b[39m ComplexUNet(\u001b[39m4\u001b[39m)\n\u001b[1;32m     <a href='vscode-notebook-cell:/Users/paulsade/Development/UNet_Semi_Supervised_Medical_Image_Segmentation/mainSegmentationChallenge.ipynb#X16sZmlsZQ%3D%3D?line=11'>12</a>\u001b[0m net_test \u001b[39m=\u001b[39m net_test\u001b[39m.\u001b[39mto(device)\n\u001b[0;32m---> <a href='vscode-notebook-cell:/Users/paulsade/Development/UNet_Semi_Supervised_Medical_Image_Segmentation/mainSegmentationChallenge.ipynb#X16sZmlsZQ%3D%3D?line=12'>13</a>\u001b[0m net_test\u001b[39m.\u001b[39mload_state_dict(torch\u001b[39m.\u001b[39;49mload(model_path, map_location\u001b[39m=\u001b[39;49mtorch\u001b[39m.\u001b[39;49mdevice(\u001b[39m'\u001b[39;49m\u001b[39mcpu\u001b[39;49m\u001b[39m'\u001b[39;49m)))\n\u001b[1;32m     <a href='vscode-notebook-cell:/Users/paulsade/Development/UNet_Semi_Supervised_Medical_Image_Segmentation/mainSegmentationChallenge.ipynb#X16sZmlsZQ%3D%3D?line=13'>14</a>\u001b[0m \u001b[39m# Load the image\u001b[39;00m\n\u001b[1;32m     <a href='vscode-notebook-cell:/Users/paulsade/Development/UNet_Semi_Supervised_Medical_Image_Segmentation/mainSegmentationChallenge.ipynb#X16sZmlsZQ%3D%3D?line=14'>15</a>\u001b[0m image \u001b[39m=\u001b[39m Image\u001b[39m.\u001b[39mopen(image_path)\n",
      "File \u001b[0;32m~/Library/Python/3.9/lib/python/site-packages/torch/serialization.py:986\u001b[0m, in \u001b[0;36mload\u001b[0;34m(f, map_location, pickle_module, weights_only, mmap, **pickle_load_args)\u001b[0m\n\u001b[1;32m    983\u001b[0m \u001b[39mif\u001b[39;00m \u001b[39m'\u001b[39m\u001b[39mencoding\u001b[39m\u001b[39m'\u001b[39m \u001b[39mnot\u001b[39;00m \u001b[39min\u001b[39;00m pickle_load_args\u001b[39m.\u001b[39mkeys():\n\u001b[1;32m    984\u001b[0m     pickle_load_args[\u001b[39m'\u001b[39m\u001b[39mencoding\u001b[39m\u001b[39m'\u001b[39m] \u001b[39m=\u001b[39m \u001b[39m'\u001b[39m\u001b[39mutf-8\u001b[39m\u001b[39m'\u001b[39m\n\u001b[0;32m--> 986\u001b[0m \u001b[39mwith\u001b[39;00m _open_file_like(f, \u001b[39m'\u001b[39;49m\u001b[39mrb\u001b[39;49m\u001b[39m'\u001b[39;49m) \u001b[39mas\u001b[39;00m opened_file:\n\u001b[1;32m    987\u001b[0m     \u001b[39mif\u001b[39;00m _is_zipfile(opened_file):\n\u001b[1;32m    988\u001b[0m         \u001b[39m# The zipfile reader is going to advance the current file position.\u001b[39;00m\n\u001b[1;32m    989\u001b[0m         \u001b[39m# If we want to actually tail call to torch.jit.load, we need to\u001b[39;00m\n\u001b[1;32m    990\u001b[0m         \u001b[39m# reset back to the original position.\u001b[39;00m\n\u001b[1;32m    991\u001b[0m         orig_position \u001b[39m=\u001b[39m opened_file\u001b[39m.\u001b[39mtell()\n",
      "File \u001b[0;32m~/Library/Python/3.9/lib/python/site-packages/torch/serialization.py:435\u001b[0m, in \u001b[0;36m_open_file_like\u001b[0;34m(name_or_buffer, mode)\u001b[0m\n\u001b[1;32m    433\u001b[0m \u001b[39mdef\u001b[39;00m \u001b[39m_open_file_like\u001b[39m(name_or_buffer, mode):\n\u001b[1;32m    434\u001b[0m     \u001b[39mif\u001b[39;00m _is_path(name_or_buffer):\n\u001b[0;32m--> 435\u001b[0m         \u001b[39mreturn\u001b[39;00m _open_file(name_or_buffer, mode)\n\u001b[1;32m    436\u001b[0m     \u001b[39melse\u001b[39;00m:\n\u001b[1;32m    437\u001b[0m         \u001b[39mif\u001b[39;00m \u001b[39m'\u001b[39m\u001b[39mw\u001b[39m\u001b[39m'\u001b[39m \u001b[39min\u001b[39;00m mode:\n",
      "File \u001b[0;32m~/Library/Python/3.9/lib/python/site-packages/torch/serialization.py:416\u001b[0m, in \u001b[0;36m_open_file.__init__\u001b[0;34m(self, name, mode)\u001b[0m\n\u001b[1;32m    415\u001b[0m \u001b[39mdef\u001b[39;00m \u001b[39m__init__\u001b[39m(\u001b[39mself\u001b[39m, name, mode):\n\u001b[0;32m--> 416\u001b[0m     \u001b[39msuper\u001b[39m()\u001b[39m.\u001b[39m\u001b[39m__init__\u001b[39m(\u001b[39mopen\u001b[39;49m(name, mode))\n",
      "\u001b[0;31mFileNotFoundError\u001b[0m: [Errno 2] No such file or directory: './models/Test_Model/9evalStagne_Epoch'"
     ]
    }
   ],
   "source": [
    "# Displaying the outputs for different models\n",
    "\n",
    "models_paths = ['./models/' + 'Trained/2nd_model_simple_multi_unet_model/Data_Augmented/Augmented_' + str(i) + 'x' for i in range(6)]\n",
    "import torch\n",
    "\n",
    "image_path = \"./Data/val/Img/patient001_12_2.png\"\n",
    "#plotOutput('./models/' + 'Test_Model1/19_Epoch', image_path)\n",
    "plotOutput('./models/' + 'Test_Model/9evalStagne_Epoch', image_path)\n",
    "#plotOutput('./models/' + 'Trained/2nd_model_simple_multi_unet_model/Data_Augmented/Augmented_5x', image_path)\n"
   ]
  }
 ],
 "metadata": {
  "kernelspec": {
   "display_name": "saturn (Python 3)",
   "language": "python",
   "name": "python3"
  },
  "language_info": {
   "codemirror_mode": {
    "name": "ipython",
    "version": 3
   },
   "file_extension": ".py",
   "mimetype": "text/x-python",
   "name": "python",
   "nbconvert_exporter": "python",
   "pygments_lexer": "ipython3",
   "version": "3.9.12"
  }
 },
 "nbformat": 4,
 "nbformat_minor": 5
}
