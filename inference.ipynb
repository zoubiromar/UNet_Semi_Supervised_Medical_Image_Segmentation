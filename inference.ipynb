{
 "cells": [
  {
   "cell_type": "code",
   "execution_count": 67,
   "metadata": {},
   "outputs": [],
   "source": [
    "from PIL import Image\n",
    "import torchvision.transforms.functional as TF\n",
    "import matplotlib.pyplot as plt\n",
    "from utils import *\n",
    "import torch\n",
    "from multi_UNet_complex import *\n",
    "import os\n",
    "from torchvision import transforms\n",
    "import cv2\n",
    "\n",
    "device = torch.device('cpu')\n"
   ]
  },
  {
   "cell_type": "code",
   "execution_count": 68,
   "metadata": {},
   "outputs": [],
   "source": [
    "def predict_img(model_path, image_path, output_path):\n",
    "\n",
    "    ## CREATION OF YOUR MODEL\n",
    "    net_test = ComplexUNet(4)\n",
    "    net_test = net_test.to(device)\n",
    "    net_test.load_state_dict(torch.load(model_path, map_location=torch.device('cpu')))\n",
    "    # Load the image\n",
    "    image = Image.open(image_path)\n",
    "\n",
    "    # Convert the image to grayscale\n",
    "    if image.mode != 'L':\n",
    "        image = image.convert('L')\n",
    "\n",
    "    # Preprocess the image\n",
    "    x = TF.to_tensor(image)\n",
    "    x = TF.normalize(x, [0.5], [0.5])\n",
    "    x = x.unsqueeze(0)  # Add batch dimension\n",
    "\n",
    "    # Move the tensor to the same device as the model\n",
    "    x = x.to(device)\n",
    "\n",
    "    output = net_test(x)\n",
    "\n",
    "    # The output is the predicted segmentation\n",
    "    predicted_segmentation = torch.argmax(output.squeeze(), dim=0)\n",
    "\n",
    "    # Convert the tensor to a numpy array\n",
    "    predicted_segmentation = predicted_segmentation.detach().cpu().numpy()\n",
    "\n",
    "    # Map the predicted class to the color code \n",
    "    mapping = {0: 0, 1: 85, 2: 170, 3: 255}\n",
    "    predicted_segmentation = np.vectorize(mapping.get)(predicted_segmentation)\n",
    "\n",
    "    # Save the predicted segmentation as an image\n",
    "    predicted_image = Image.fromarray(predicted_segmentation.astype('uint8'))\n",
    "    predicted_image.save(output_path)"
   ]
  },
  {
   "cell_type": "code",
   "execution_count": 69,
   "metadata": {},
   "outputs": [],
   "source": [
    "def predict_folder(model_path, input_folder, output_folder):\n",
    "    if not os.path.exists(output_folder):\n",
    "        os.makedirs(output_folder)\n",
    "\n",
    "    # Liste des fichiers dans le dossier d'entrée\n",
    "    input_files = os.listdir(input_folder)\n",
    "\n",
    "    for input_file in input_files:\n",
    "        input_image_path = os.path.join(input_folder, input_file)\n",
    "\n",
    "        output_image_path = os.path.join(output_folder, input_file)\n",
    "\n",
    "        predict_img(model_path, input_image_path, output_image_path)"
   ]
  },
  {
   "cell_type": "code",
   "execution_count": 70,
   "metadata": {},
   "outputs": [],
   "source": [
    "predict_folder('./models/1_Epoch', './Data all labelled/test/Img', './img/predictions')"
   ]
  }
 ],
 "metadata": {
  "kernelspec": {
   "display_name": "Python 3",
   "language": "python",
   "name": "python3"
  },
  "language_info": {
   "codemirror_mode": {
    "name": "ipython",
    "version": 3
   },
   "file_extension": ".py",
   "mimetype": "text/x-python",
   "name": "python",
   "nbconvert_exporter": "python",
   "pygments_lexer": "ipython3",
   "version": "3.9.5"
  }
 },
 "nbformat": 4,
 "nbformat_minor": 2
}
